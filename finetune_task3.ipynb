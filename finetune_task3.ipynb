{
  "cells": [
    {
      "cell_type": "markdown",
      "metadata": {
        "id": "view-in-github",
        "colab_type": "text"
      },
      "source": [
        "<a href=\"https://colab.research.google.com/github/nadfai/m22ai582/blob/main/finetune_task3.ipynb\" target=\"_parent\"><img src=\"https://colab.research.google.com/assets/colab-badge.svg\" alt=\"Open In Colab\"/></a>"
      ]
    },
    {
      "cell_type": "markdown",
      "id": "63025520",
      "metadata": {
        "id": "63025520"
      },
      "source": [
        "# Finetune the model"
      ]
    },
    {
      "cell_type": "code",
      "execution_count": 1,
      "id": "c132e6e7",
      "metadata": {
        "id": "c132e6e7"
      },
      "outputs": [],
      "source": [
        "from keras.applications import VGG16\n",
        "from keras.layers import Dense, Dropout, Flatten\n",
        "from keras.models import Model\n",
        "from keras.optimizers import Adam\n",
        "from keras.preprocessing.image import ImageDataGenerator"
      ]
    },
    {
      "cell_type": "code",
      "source": [
        "from google.colab import drive\n",
        "drive.mount('/content/drive')"
      ],
      "metadata": {
        "colab": {
          "base_uri": "https://localhost:8080/"
        },
        "id": "lqUmweTaMCoA",
        "outputId": "11a6e368-ef6d-4a44-d178-fae7af4321b3"
      },
      "id": "lqUmweTaMCoA",
      "execution_count": 12,
      "outputs": [
        {
          "output_type": "stream",
          "name": "stdout",
          "text": [
            "Mounted at /content/drive\n"
          ]
        }
      ]
    },
    {
      "cell_type": "code",
      "execution_count": 2,
      "id": "9df60b03",
      "metadata": {
        "id": "9df60b03"
      },
      "outputs": [],
      "source": [
        "# Setting the input size of the images\n",
        "img_width, img_height = 224, 224"
      ]
    },
    {
      "cell_type": "code",
      "execution_count": 14,
      "id": "c971a211",
      "metadata": {
        "id": "c971a211"
      },
      "outputs": [],
      "source": [
        "# Setting the directories of the training and validation data\n",
        "train_data_dir = \"/content/drive/MyDrive/Colab Notebooks/train-20230429T125055Z-001\"\n",
        "val_data_dir = \"/content/drive/MyDrive/Colab Notebooks/val-20230429T125056Z-001\""
      ]
    },
    {
      "cell_type": "code",
      "execution_count": 15,
      "id": "f7939ff2",
      "metadata": {
        "id": "f7939ff2"
      },
      "outputs": [],
      "source": [
        "# Creating an instance of the VGG16 model with pre-trained weights\n",
        "base_model = VGG16(weights='imagenet', include_top=False, input_shape=(img_width, img_height, 3))"
      ]
    },
    {
      "cell_type": "code",
      "execution_count": 16,
      "id": "d784706c",
      "metadata": {
        "id": "d784706c"
      },
      "outputs": [],
      "source": [
        "# Freezing the layers of the pre-trained model\n",
        "for layer in base_model.layers:\n",
        "    layer.trainable = False"
      ]
    },
    {
      "cell_type": "code",
      "execution_count": 17,
      "id": "513fdbc4",
      "metadata": {
        "id": "513fdbc4"
      },
      "outputs": [],
      "source": [
        "# Adding new layers to the pre-trained model\n",
        "x = base_model.output\n",
        "x = Flatten()(x)\n",
        "x = Dense(256, activation='relu')(x)\n",
        "x = Dropout(0.5)(x)\n",
        "predictions = Dense(1, activation='sigmoid')(x)"
      ]
    },
    {
      "cell_type": "code",
      "execution_count": 18,
      "id": "f0dc9f60",
      "metadata": {
        "id": "f0dc9f60"
      },
      "outputs": [],
      "source": [
        "# Defining the new model with the pre-trained model as its base and the new layers as its top\n",
        "model = Model(inputs=base_model.input, outputs=predictions)"
      ]
    },
    {
      "cell_type": "code",
      "execution_count": 19,
      "id": "f4543bc6",
      "metadata": {
        "id": "f4543bc6"
      },
      "outputs": [],
      "source": [
        "# Compiling the model with a binary crossentropy loss and an Adam optimizer\n",
        "model.compile(loss='binary_crossentropy', optimizer=Adam(lr=1e-5), metrics=['accuracy'])"
      ]
    },
    {
      "cell_type": "code",
      "execution_count": 20,
      "id": "c4738cb5",
      "metadata": {
        "id": "c4738cb5"
      },
      "outputs": [],
      "source": [
        "# Setting up data augmentation for the training data and validation data\n",
        "train_datagen = ImageDataGenerator(\n",
        "    rescale=1./255,\n",
        "    shear_range=0.2,\n",
        "    zoom_range=0.2,\n",
        "    horizontal_flip=True)\n",
        "\n",
        "val_datagen = ImageDataGenerator(rescale=1./255)"
      ]
    },
    {
      "cell_type": "code",
      "execution_count": 21,
      "id": "ba578b8e",
      "metadata": {
        "id": "ba578b8e"
      },
      "outputs": [],
      "source": [
        "# Setting the batch size\n",
        "batch_size = 16\n",
        "\n",
        "# Setting the number of training and validation samples\n",
        "nb_train_samples = 1600\n",
        "nb_val_samples = 400\n",
        "\n",
        "# Setting the number of epochs\n",
        "epochs = 10"
      ]
    },
    {
      "cell_type": "code",
      "execution_count": 22,
      "id": "9fe22a81",
      "metadata": {
        "colab": {
          "base_uri": "https://localhost:8080/"
        },
        "id": "9fe22a81",
        "outputId": "15e0a7bc-b780-4d94-92b0-8f5994e91890"
      },
      "outputs": [
        {
          "output_type": "stream",
          "name": "stdout",
          "text": [
            "Found 1000 images belonging to 1 classes.\n",
            "Found 178 images belonging to 1 classes.\n"
          ]
        },
        {
          "output_type": "stream",
          "name": "stderr",
          "text": [
            "/usr/local/lib/python3.10/dist-packages/keras/preprocessing/image.py:202: UserWarning: Using \".tiff\" files with multiple bands will cause distortion. Please verify your output.\n",
            "  warnings.warn(\n"
          ]
        },
        {
          "output_type": "stream",
          "name": "stdout",
          "text": [
            "Epoch 1/10\n",
            " 63/100 [=================>............] - ETA: 6:30 - loss: 0.0177 - accuracy: 1.0000"
          ]
        },
        {
          "output_type": "stream",
          "name": "stderr",
          "text": [
            "WARNING:tensorflow:Your input ran out of data; interrupting training. Make sure that your dataset or generator can generate at least `steps_per_epoch * epochs` batches (in this case, 1000 batches). You may need to use the repeat() function when building your dataset.\n",
            "WARNING:tensorflow:Your input ran out of data; interrupting training. Make sure that your dataset or generator can generate at least `steps_per_epoch * epochs` batches (in this case, 25 batches). You may need to use the repeat() function when building your dataset.\n"
          ]
        },
        {
          "output_type": "stream",
          "name": "stdout",
          "text": [
            "\b\b\b\b\b\b\b\b\b\b\b\b\b\b\b\b\b\b\b\b\b\b\b\b\b\b\b\b\b\b\b\b\b\b\b\b\b\b\b\b\b\b\b\b\b\b\b\b\b\b\b\b\b\b\b\b\b\b\b\b\b\b\b\b\b\b\b\b\b\b\b\b\b\b\b\b\b\b\b\b\b\b\b\b\b\b\r100/100 [==============================] - 813s 8s/step - loss: 0.0177 - accuracy: 1.0000 - val_loss: 4.2094e-04 - val_accuracy: 1.0000\n"
          ]
        }
      ],
      "source": [
        "# Training the model with the data generators\n",
        "history = model.fit(\n",
        "    train_datagen.flow_from_directory(train_data_dir, target_size=(img_width, img_height), batch_size=batch_size, class_mode='binary'),\n",
        "    steps_per_epoch=nb_train_samples // batch_size,\n",
        "    epochs=epochs,\n",
        "    validation_data=val_datagen.flow_from_directory(val_data_dir, target_size=(img_width, img_height), batch_size=batch_size, class_mode='binary'),\n",
        "    validation_steps=nb_val_samples // batch_size)"
      ]
    },
    {
      "cell_type": "code",
      "execution_count": 23,
      "id": "04a2d9fa",
      "metadata": {
        "id": "04a2d9fa"
      },
      "outputs": [],
      "source": [
        "# Evaluate the model on the test data\n",
        "test_datagen = ImageDataGenerator(rescale=1./255)\n",
        "test_data_dir = \"/content/drive/MyDrive/Colab Notebooks/test\""
      ]
    },
    {
      "cell_type": "code",
      "execution_count": 24,
      "id": "4f31c249",
      "metadata": {
        "colab": {
          "base_uri": "https://localhost:8080/"
        },
        "id": "4f31c249",
        "outputId": "5fb17a57-3655-4ed5-93f8-d8b36e2ec3ba"
      },
      "outputs": [
        {
          "output_type": "stream",
          "name": "stdout",
          "text": [
            "Found 0 images belonging to 0 classes.\n"
          ]
        }
      ],
      "source": [
        "test_generator = test_datagen.flow_from_directory(\n",
        "    test_data_dir,\n",
        "    target_size=(img_width, img_height),\n",
        "    batch_size=batch_size,\n",
        "    class_mode='binary')"
      ]
    },
    {
      "cell_type": "code",
      "source": [
        "test_loss, test_acc = model.evaluate(test_generator, steps=len(test_generator))"
      ],
      "metadata": {
        "id": "w8I4Hv45Seq7"
      },
      "id": "w8I4Hv45Seq7",
      "execution_count": null,
      "outputs": []
    },
    {
      "cell_type": "code",
      "source": [
        "print('Test accuracy:', test_acc)\n",
        "print('Test loss:', test_loss)"
      ],
      "metadata": {
        "id": "E7EWpcMcSkcm"
      },
      "id": "E7EWpcMcSkcm",
      "execution_count": null,
      "outputs": []
    }
  ],
  "metadata": {
    "kernelspec": {
      "display_name": "Python 3 (ipykernel)",
      "language": "python",
      "name": "python3"
    },
    "language_info": {
      "codemirror_mode": {
        "name": "ipython",
        "version": 3
      },
      "file_extension": ".py",
      "mimetype": "text/x-python",
      "name": "python",
      "nbconvert_exporter": "python",
      "pygments_lexer": "ipython3",
      "version": "3.9.13"
    },
    "colab": {
      "provenance": [],
      "include_colab_link": true
    }
  },
  "nbformat": 4,
  "nbformat_minor": 5
}